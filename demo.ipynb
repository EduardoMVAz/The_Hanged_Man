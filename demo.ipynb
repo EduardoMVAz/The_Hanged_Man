{
 "cells": [
  {
   "attachments": {},
   "cell_type": "markdown",
   "metadata": {},
   "source": [
    "# Usando o Hanged Man e Jogando\n",
    "Você pode usar as células abaixo para jogar com o Hanged Man:"
   ]
  },
  {
   "cell_type": "code",
   "execution_count": 1,
   "metadata": {},
   "outputs": [],
   "source": [
    "import pandas as pd\n",
    "from HangedMan import HangedMan\n",
    "\n",
    "# Este é o dataframe de palavras que DEVE ser passado para o jogador\n",
    "df = pd.read_csv(\"br-sem-acentos.txt\", header=None, names=['word'])\n",
    "df['word'] = df['word'].str.lower()\n",
    "\n",
    "jogador = HangedMan(df)"
   ]
  },
  {
   "cell_type": "markdown",
   "metadata": {},
   "source": [
    "Os detalhes da implementação do agente estão totalmente comentados dentro do arquivo `HangedMan.py`"
   ]
  },
  {
   "cell_type": "code",
   "execution_count": 2,
   "metadata": {},
   "outputs": [
    {
     "name": "stdout",
     "output_type": "stream",
     "text": [
      "A palavra escolhida foi: leproso a palavra que o jogador chutou foi: leproso\n",
      "\n",
      "A palavra escolhida foi: acertar a palavra que o jogador chutou foi: acertar\n",
      "\n",
      "A palavra passada foi inválida! Outra palavra foi escolhida\n",
      "A palavra escolhida foi: julgariam a palavra que o jogador chutou foi: culpariam\n",
      "\n"
     ]
    }
   ],
   "source": [
    "# Para jogar, você deve rodar essa célula.\n",
    "\n",
    "# Se nada for passado dentro da função play, o jogo escolhe uma palavra aleatória!\n",
    "jogo1 = jogador.play(palavra=\"\")\n",
    "print(\"A palavra escolhida foi: \" + jogo1[1] + \" a palavra que o jogador chutou foi: \" + jogo1[2] + \"\\n\")\n",
    "\n",
    "# Se uma palavra válida for passada dentro da função, o jogador tenta acertar essa palavra!\n",
    "jogo2 = jogador.play(palavra=\"acertar\")\n",
    "print(\"A palavra escolhida foi: \" + jogo2[1] + \" a palavra que o jogador chutou foi: \" + jogo2[2] + \"\\n\")\n",
    "\n",
    "# Se uma palavra inválida for passada, o jogo escolhe uma palavra aleatória!\n",
    "jogo3 = jogador.play(palavra=\"nãodevepassarpalavrascomacentooupontuacao!\")\n",
    "print(\"A palavra escolhida foi: \" + jogo3[1] + \" a palavra que o jogador chutou foi: \" + jogo3[2] + \"\\n\")"
   ]
  },
  {
   "attachments": {},
   "cell_type": "markdown",
   "metadata": {},
   "source": [
    "# Testes com o Jogador (HangedMan)\n",
    "### Letras e suas frequências\n",
    "Como mencionado no `README.md`, a frequência na qual as letras aparecem nas palavras é de muita relevância para o funcionamento do jogador, portanto o primeiro teste foi realizar a leitura do dataframe, obtendo as frequências de cada uma das letras:"
   ]
  },
  {
   "cell_type": "code",
   "execution_count": 3,
   "metadata": {},
   "outputs": [
    {
     "data": {
      "text/plain": [
       "a    359221\n",
       "e    287955\n",
       "s    254971\n",
       "r    231267\n",
       "i    218894\n",
       "o    178830\n",
       "m    130235\n",
       "n    106069\n",
       "t    103521\n",
       "c    100394\n",
       "d     81182\n",
       "u     65787\n",
       "l     65345\n",
       "p     52727\n",
       "v     44079\n",
       "g     34189\n",
       "b     30961\n",
       "f     29942\n",
       "h     18802\n",
       "z     18584\n",
       "j      8477\n",
       "q      8226\n",
       "x      7931\n",
       "k        22\n",
       "w        18\n",
       "y         8\n",
       "dtype: int64"
      ]
     },
     "execution_count": 3,
     "metadata": {},
     "output_type": "execute_result"
    }
   ],
   "source": [
    "import pandas as pd\n",
    "\n",
    "# Primeiro, quantas vezes cada letra aparece nas palavras?\n",
    "df = pd.read_csv(\"br-sem-acentos.txt\", header=None, names=['word'])\n",
    "df['word'] = df['word'].str.lower()\n",
    "\n",
    "alphabet = 'abcdefghijklmnopqrstuvwxyz'\n",
    "\n",
    "letter_counts = {}\n",
    "for word in df['word']:\n",
    "    counts = {i:0 for i in alphabet}\n",
    "    for letter in word:\n",
    "        counts[letter] += 1\n",
    "    letter_counts[word] = counts\n",
    "# dataframe que cada coluna é uma letra, e cada linha é uma palavra\n",
    "\n",
    "df = pd.DataFrame.from_dict(letter_counts, orient='index')\n",
    "\n",
    "df_ = df.reset_index(drop=True)\n",
    "letter_counts = df_.sum().sort_values(ascending=False)\n",
    "letter_counts"
   ]
  },
  {
   "cell_type": "code",
   "execution_count": 5,
   "metadata": {},
   "outputs": [
    {
     "data": {
      "image/png": "[encoded data removed]",
      "text/plain": [
       "<Figure size 640x480 with 1 Axes>"
      ]
     },
     "metadata": {},
     "output_type": "display_data"
    }
   ],
   "source": [
    "import matplotlib.pyplot as plt\n",
    "\n",
    "plt.figure()\n",
    "plt.bar(letter_counts.index, height=letter_counts.values/letter_counts.sum(), color='red', alpha=0.5)\n",
    "plt.title(\"Frequência de Letras do Alfabeto na Base de Palavras\")\n",
    "plt.xlabel(\"Letra\")\n",
    "plt.ylabel(\"Frequência Relativa\")\n",
    "plt.show()"
   ]
  },
  {
   "cell_type": "code",
   "execution_count": 17,
   "metadata": {},
   "outputs": [
    {
     "data": {
      "text/plain": [
       "a    0.147364\n",
       "b    0.012701\n",
       "c    0.041185\n",
       "d    0.033304\n",
       "e    0.118129\n",
       "f    0.012283\n",
       "g    0.014025\n",
       "h    0.007713\n",
       "i    0.089798\n",
       "j    0.003478\n",
       "k    0.000009\n",
       "l    0.026807\n",
       "m    0.053427\n",
       "n    0.043513\n",
       "o    0.073362\n",
       "p    0.021630\n",
       "q    0.003375\n",
       "r    0.094873\n",
       "s    0.104598\n",
       "t    0.042468\n",
       "u    0.026988\n",
       "v    0.018083\n",
       "w    0.000007\n",
       "x    0.003254\n",
       "y    0.000003\n",
       "z    0.007624\n",
       "dtype: float64"
      ]
     },
     "execution_count": 17,
     "metadata": {},
     "output_type": "execute_result"
    }
   ],
   "source": [
    "# E suas frequências relativas\n",
    "letter_counts/letter_counts.sum()"
   ]
  },
  {
   "attachments": {},
   "cell_type": "markdown",
   "metadata": {},
   "source": [
    "Como podemos ver, letras como k, w e y tem uma frequência insignificante na lista de palavras, e pelo funcionamento do jogador, isso faz com que seja muito difícil acertar palavras com essas letras."
   ]
  },
  {
   "attachments": {},
   "cell_type": "markdown",
   "metadata": {},
   "source": [
    "### Tamanhos das palavras\n",
    "Outro fator importante no cálculo da chance de acertar uma palavra é o tamanho dela. Alguns tamanhos de palavras são mais frequentes do que outros, e isso aumenta a chance de erro, por incluir mais possibilidades. Para saber quantas palavras tinham cada tamanho fizemos o seguinte teste:"
   ]
  },
  {
   "cell_type": "code",
   "execution_count": 13,
   "metadata": {},
   "outputs": [
    {
     "data": {
      "text/html": [
       "<div>\n",
       "<style scoped>\n",
       "    .dataframe tbody tr th:only-of-type {\n",
       "        vertical-align: middle;\n",
       "    }\n",
       "\n",
       "    .dataframe tbody tr th {\n",
       "        vertical-align: top;\n",
       "    }\n",
       "\n",
       "    .dataframe thead th {\n",
       "        text-align: right;\n",
       "    }\n",
       "</style>\n",
       "<table border=\"1\" class=\"dataframe\">\n",
       "  <thead>\n",
       "    <tr style=\"text-align: right;\">\n",
       "      <th></th>\n",
       "      <th>Tamanho</th>\n",
       "      <th>Quantidade</th>\n",
       "    </tr>\n",
       "  </thead>\n",
       "  <tbody>\n",
       "    <tr>\n",
       "      <th>0</th>\n",
       "      <td>1 Letra(s)</td>\n",
       "      <td>3</td>\n",
       "    </tr>\n",
       "    <tr>\n",
       "      <th>1</th>\n",
       "      <td>2 Letra(s)</td>\n",
       "      <td>62</td>\n",
       "    </tr>\n",
       "    <tr>\n",
       "      <th>2</th>\n",
       "      <td>3 Letra(s)</td>\n",
       "      <td>296</td>\n",
       "    </tr>\n",
       "    <tr>\n",
       "      <th>3</th>\n",
       "      <td>4 Letra(s)</td>\n",
       "      <td>1604</td>\n",
       "    </tr>\n",
       "    <tr>\n",
       "      <th>4</th>\n",
       "      <td>5 Letra(s)</td>\n",
       "      <td>5481</td>\n",
       "    </tr>\n",
       "    <tr>\n",
       "      <th>5</th>\n",
       "      <td>6 Letra(s)</td>\n",
       "      <td>11397</td>\n",
       "    </tr>\n",
       "    <tr>\n",
       "      <th>6</th>\n",
       "      <td>7 Letra(s)</td>\n",
       "      <td>20548</td>\n",
       "    </tr>\n",
       "    <tr>\n",
       "      <th>7</th>\n",
       "      <td>8 Letra(s)</td>\n",
       "      <td>30681</td>\n",
       "    </tr>\n",
       "    <tr>\n",
       "      <th>8</th>\n",
       "      <td>9 Letra(s)</td>\n",
       "      <td>37390</td>\n",
       "    </tr>\n",
       "    <tr>\n",
       "      <th>9</th>\n",
       "      <td>10 Letra(s)</td>\n",
       "      <td>39831</td>\n",
       "    </tr>\n",
       "    <tr>\n",
       "      <th>10</th>\n",
       "      <td>11 Letra(s)</td>\n",
       "      <td>35120</td>\n",
       "    </tr>\n",
       "    <tr>\n",
       "      <th>11</th>\n",
       "      <td>12 Letra(s)</td>\n",
       "      <td>26824</td>\n",
       "    </tr>\n",
       "    <tr>\n",
       "      <th>12</th>\n",
       "      <td>13 Letra(s)</td>\n",
       "      <td>17347</td>\n",
       "    </tr>\n",
       "    <tr>\n",
       "      <th>13</th>\n",
       "      <td>14 Letra(s)</td>\n",
       "      <td>9961</td>\n",
       "    </tr>\n",
       "    <tr>\n",
       "      <th>14</th>\n",
       "      <td>15 Letra(s)</td>\n",
       "      <td>4994</td>\n",
       "    </tr>\n",
       "    <tr>\n",
       "      <th>15</th>\n",
       "      <td>16 Letra(s)</td>\n",
       "      <td>2207</td>\n",
       "    </tr>\n",
       "    <tr>\n",
       "      <th>16</th>\n",
       "      <td>17 Letra(s)</td>\n",
       "      <td>966</td>\n",
       "    </tr>\n",
       "    <tr>\n",
       "      <th>17</th>\n",
       "      <td>18 Letra(s)</td>\n",
       "      <td>405</td>\n",
       "    </tr>\n",
       "    <tr>\n",
       "      <th>18</th>\n",
       "      <td>19 Letra(s)</td>\n",
       "      <td>158</td>\n",
       "    </tr>\n",
       "    <tr>\n",
       "      <th>19</th>\n",
       "      <td>20 Letra(s)</td>\n",
       "      <td>60</td>\n",
       "    </tr>\n",
       "  </tbody>\n",
       "</table>\n",
       "</div>"
      ],
      "text/plain": [
       "        Tamanho  Quantidade\n",
       "0    1 Letra(s)           3\n",
       "1    2 Letra(s)          62\n",
       "2    3 Letra(s)         296\n",
       "3    4 Letra(s)        1604\n",
       "4    5 Letra(s)        5481\n",
       "5    6 Letra(s)       11397\n",
       "6    7 Letra(s)       20548\n",
       "7    8 Letra(s)       30681\n",
       "8    9 Letra(s)       37390\n",
       "9   10 Letra(s)       39831\n",
       "10  11 Letra(s)       35120\n",
       "11  12 Letra(s)       26824\n",
       "12  13 Letra(s)       17347\n",
       "13  14 Letra(s)        9961\n",
       "14  15 Letra(s)        4994\n",
       "15  16 Letra(s)        2207\n",
       "16  17 Letra(s)         966\n",
       "17  18 Letra(s)         405\n",
       "18  19 Letra(s)         158\n",
       "19  20 Letra(s)          60"
      ]
     },
     "execution_count": 13,
     "metadata": {},
     "output_type": "execute_result"
    }
   ],
   "source": [
    "import pandas as pd\n",
    "\n",
    "df = pd.read_csv(\"br-sem-acentos.txt\", header=None, names=['word'])\n",
    "df['word'] = df['word'].str.lower()\n",
    "\n",
    "data = pd.DataFrame(columns=[\"Tamanho\",\"Quantidade\"])\n",
    "\n",
    "for i in range(1,21):\n",
    "    data.loc[len(data)] = [str(i) + \" Letra(s)\", len(df[df[\"word\"].str.len() == i])]\n",
    "data.head(20)"
   ]
  },
  {
   "attachments": {},
   "cell_type": "markdown",
   "metadata": {},
   "source": [
    "Esse dataframe representa a quantidade de palavras com cada número de letras, até 20. "
   ]
  },
  {
   "cell_type": "code",
   "execution_count": 15,
   "metadata": {},
   "outputs": [
    {
     "data": {
      "image/png": "[encoded data removed]",
      "text/plain": [
       "<Figure size 640x480 with 1 Axes>"
      ]
     },
     "metadata": {},
     "output_type": "display_data"
    }
   ],
   "source": [
    "# Como um gráfico de barras\n",
    "\n",
    "import matplotlib.pyplot as plt\n",
    "\n",
    "\n",
    "plt.figure()\n",
    "plt.bar(data[\"Tamanho\"], data[\"Quantidade\"], color='red', alpha=0.5)\n",
    "plt.title(\"Quantidade de Palavras por Tamanho\")\n",
    "plt.xlabel(\"Tamanho\")\n",
    "plt.ylabel(\"Quantidade\")\n",
    "plt.xticks(rotation=90)\n",
    "plt.show()"
   ]
  },
  {
   "attachments": {},
   "cell_type": "markdown",
   "metadata": {},
   "source": [
    "## Acurácia \n",
    "Realizamos 1000 jogos, medindo a acurácia do jogador. Também guardamos as informações de todas as palavras que ele errou, para encontrar padrões nelas e fatores que causam o erro:"
   ]
  },
  {
   "cell_type": "code",
   "execution_count": 12,
   "metadata": {},
   "outputs": [],
   "source": [
    "import pandas as pd\n",
    "from HangedMan import HangedMan\n",
    "\n",
    "df = pd.read_csv(\"br-sem-acentos.txt\", header=None, names=['word'])\n",
    "df['word'] = df['word'].str.lower()\n",
    "hangedman = HangedMan(df)\n",
    "data = pd.DataFrame(columns=[\"Status\", \"Palavra Correta\", \"Palavra Tentada\"])\n",
    "\n",
    "ganhou = 0\n",
    "dict_palavras = {}\n",
    "for _ in range(1000):\n",
    "    jogo = hangedman.play()\n",
    "    if jogo[0]:\n",
    "        ganhou += 1\n",
    "        data.loc[len(data)] = ['Ganhou', jogo[1], jogo[2]]\n",
    "    else:\n",
    "        data.loc[len(data)] = ['Perdeu', jogo[1], jogo[2]]"
   ]
  },
  {
   "cell_type": "code",
   "execution_count": 26,
   "metadata": {},
   "outputs": [
    {
     "name": "stdout",
     "output_type": "stream",
     "text": [
      "0.889\n"
     ]
    },
    {
     "data": {
      "text/html": [
       "<div>\n",
       "<style scoped>\n",
       "    .dataframe tbody tr th:only-of-type {\n",
       "        vertical-align: middle;\n",
       "    }\n",
       "\n",
       "    .dataframe tbody tr th {\n",
       "        vertical-align: top;\n",
       "    }\n",
       "\n",
       "    .dataframe thead th {\n",
       "        text-align: right;\n",
       "    }\n",
       "</style>\n",
       "<table border=\"1\" class=\"dataframe\">\n",
       "  <thead>\n",
       "    <tr style=\"text-align: right;\">\n",
       "      <th></th>\n",
       "      <th>Status</th>\n",
       "      <th>Palavra Correta</th>\n",
       "      <th>Palavra Tentada</th>\n",
       "    </tr>\n",
       "  </thead>\n",
       "  <tbody>\n",
       "    <tr>\n",
       "      <th>0</th>\n",
       "      <td>Perdeu</td>\n",
       "      <td>pegada</td>\n",
       "      <td>bufava</td>\n",
       "    </tr>\n",
       "    <tr>\n",
       "      <th>5</th>\n",
       "      <td>Perdeu</td>\n",
       "      <td>mireis</td>\n",
       "      <td>gireis</td>\n",
       "    </tr>\n",
       "    <tr>\n",
       "      <th>7</th>\n",
       "      <td>Perdeu</td>\n",
       "      <td>IMPA</td>\n",
       "      <td></td>\n",
       "    </tr>\n",
       "    <tr>\n",
       "      <th>12</th>\n",
       "      <td>Perdeu</td>\n",
       "      <td>alojassem</td>\n",
       "      <td>afobassem</td>\n",
       "    </tr>\n",
       "    <tr>\n",
       "      <th>13</th>\n",
       "      <td>Perdeu</td>\n",
       "      <td>havida</td>\n",
       "      <td>batida</td>\n",
       "    </tr>\n",
       "    <tr>\n",
       "      <th>14</th>\n",
       "      <td>Perdeu</td>\n",
       "      <td>mantendo</td>\n",
       "      <td>lambendo</td>\n",
       "    </tr>\n",
       "    <tr>\n",
       "      <th>17</th>\n",
       "      <td>Perdeu</td>\n",
       "      <td>comam</td>\n",
       "      <td>colam</td>\n",
       "    </tr>\n",
       "    <tr>\n",
       "      <th>24</th>\n",
       "      <td>Perdeu</td>\n",
       "      <td>abanarias</td>\n",
       "      <td>abalarias</td>\n",
       "    </tr>\n",
       "    <tr>\n",
       "      <th>34</th>\n",
       "      <td>Perdeu</td>\n",
       "      <td>finalizo</td>\n",
       "      <td>dinamito</td>\n",
       "    </tr>\n",
       "    <tr>\n",
       "      <th>37</th>\n",
       "      <td>Perdeu</td>\n",
       "      <td>estorvares</td>\n",
       "      <td>estornares</td>\n",
       "    </tr>\n",
       "    <tr>\n",
       "      <th>44</th>\n",
       "      <td>Perdeu</td>\n",
       "      <td>espalhada</td>\n",
       "      <td>esfalfada</td>\n",
       "    </tr>\n",
       "    <tr>\n",
       "      <th>61</th>\n",
       "      <td>Perdeu</td>\n",
       "      <td>Denise</td>\n",
       "      <td>meiose</td>\n",
       "    </tr>\n",
       "    <tr>\n",
       "      <th>63</th>\n",
       "      <td>Perdeu</td>\n",
       "      <td>dotemo</td>\n",
       "      <td>boiemo</td>\n",
       "    </tr>\n",
       "    <tr>\n",
       "      <th>64</th>\n",
       "      <td>Perdeu</td>\n",
       "      <td>enviavamos</td>\n",
       "      <td>enfiavamos</td>\n",
       "    </tr>\n",
       "    <tr>\n",
       "      <th>66</th>\n",
       "      <td>Perdeu</td>\n",
       "      <td>trafega</td>\n",
       "      <td>brabeza</td>\n",
       "    </tr>\n",
       "    <tr>\n",
       "      <th>70</th>\n",
       "      <td>Perdeu</td>\n",
       "      <td>aventemos</td>\n",
       "      <td>alentemos</td>\n",
       "    </tr>\n",
       "    <tr>\n",
       "      <th>83</th>\n",
       "      <td>Perdeu</td>\n",
       "      <td>cravarmos</td>\n",
       "      <td>bradarmos</td>\n",
       "    </tr>\n",
       "    <tr>\n",
       "      <th>86</th>\n",
       "      <td>Perdeu</td>\n",
       "      <td>lixais</td>\n",
       "      <td>bicais</td>\n",
       "    </tr>\n",
       "    <tr>\n",
       "      <th>91</th>\n",
       "      <td>Perdeu</td>\n",
       "      <td>ganhais</td>\n",
       "      <td>bancais</td>\n",
       "    </tr>\n",
       "    <tr>\n",
       "      <th>100</th>\n",
       "      <td>Perdeu</td>\n",
       "      <td>Reinaldo</td>\n",
       "      <td>beijando</td>\n",
       "    </tr>\n",
       "  </tbody>\n",
       "</table>\n",
       "</div>"
      ],
      "text/plain": [
       "     Status Palavra Correta Palavra Tentada\n",
       "0    Perdeu          pegada          bufava\n",
       "5    Perdeu          mireis          gireis\n",
       "7    Perdeu            IMPA                \n",
       "12   Perdeu       alojassem       afobassem\n",
       "13   Perdeu          havida          batida\n",
       "14   Perdeu        mantendo        lambendo\n",
       "17   Perdeu           comam           colam\n",
       "24   Perdeu       abanarias       abalarias\n",
       "34   Perdeu        finalizo        dinamito\n",
       "37   Perdeu      estorvares      estornares\n",
       "44   Perdeu       espalhada       esfalfada\n",
       "61   Perdeu          Denise          meiose\n",
       "63   Perdeu          dotemo          boiemo\n",
       "64   Perdeu      enviavamos      enfiavamos\n",
       "66   Perdeu         trafega         brabeza\n",
       "70   Perdeu       aventemos       alentemos\n",
       "83   Perdeu       cravarmos       bradarmos\n",
       "86   Perdeu          lixais          bicais\n",
       "91   Perdeu         ganhais         bancais\n",
       "100  Perdeu        Reinaldo        beijando"
      ]
     },
     "execution_count": 26,
     "metadata": {},
     "output_type": "execute_result"
    }
   ],
   "source": [
    "print(ganhou/1000)\n",
    "data[data[\"Status\"] == \"Perdeu\"].head(20)"
   ]
  },
  {
   "attachments": {},
   "cell_type": "markdown",
   "metadata": {},
   "source": [
    "Como podemos ver, a acurácia atingida foi de aproximadamente 90%. Sobre os erros, analizando as palavras que o jogador errou, e quais palavras ele tentou, podemos analizar os motivos dos erros. Essa análise está no README, e usa informações desse teste."
   ]
  }
 ],
 "metadata": {
  "kernelspec": {
   "display_name": "Python 3",
   "language": "python",
   "name": "python3"
  },
  "language_info": {
   "codemirror_mode": {
    "name": "ipython",
    "version": 3
   },
   "file_extension": ".py",
   "mimetype": "text/x-python",
   "name": "python",
   "nbconvert_exporter": "python",
   "pygments_lexer": "ipython3",
   "version": "3.10.4"
  },
  "orig_nbformat": 4
 },
 "nbformat": 4,
 "nbformat_minor": 2
}
